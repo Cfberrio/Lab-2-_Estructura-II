{
  "nbformat": 4,
  "nbformat_minor": 0,
  "metadata": {
    "colab": {
      "provenance": [],
      "collapsed_sections": [],
      "mount_file_id": "1vymbgx-kVR8G_8pTWfwsh0pdwXGIihOQ",
      "authorship_tag": "ABX9TyN1SxrzhO4VM2WF2inHrbou",
      "include_colab_link": true
    },
    "kernelspec": {
      "name": "python3",
      "display_name": "Python 3"
    },
    "language_info": {
      "name": "python"
    }
  },
  "cells": [
    {
      "cell_type": "markdown",
      "metadata": {
        "id": "view-in-github",
        "colab_type": "text"
      },
      "source": [
        "<a href=\"https://colab.research.google.com/github/Cfberrio/Lab-2-_Estructura-II/blob/main/lab2.ipynb\" target=\"_parent\"><img src=\"https://colab.research.google.com/assets/colab-badge.svg\" alt=\"Open In Colab\"/></a>"
      ]
    },
    {
      "cell_type": "code",
      "execution_count": 64,
      "metadata": {
        "id": "BbMYQ014gqpf"
      },
      "outputs": [],
      "source": [
        "import pandas as pd\n",
        "import math\n",
        "\n",
        "def haversine(lat1, lon1, lat2, lon2):\n",
        "    rad=math.pi/180\n",
        "    dlat=lat2-lat1\n",
        "    dlon=lon2-lon1\n",
        "    R=6372.795477598\n",
        "    a=(math.sin(rad*dlat/2))**2 + math.cos(rad*lat1)*math.cos(rad*lat2)*(math.sin(rad*dlon/2))**2\n",
        "    distancia=2*R*math.asin(math.sqrt(a))\n",
        "    return distancia"
      ]
    },
    {
      "cell_type": "code",
      "source": [
        "#clase del grafo\n",
        "class ciudades(object):\n",
        "    #constructor con diccionario nombre_ciudad: lista de ciudades a las que puede llegar\n",
        "    #la parte de las lista despues la voy a cambiar por otro diccionario que sea nombre_destino:distancia\n",
        "    def __init__(self):\n",
        "        self.relaciones = {}\n",
        "        self.peso ={}\n",
        "#se agrega un nodo al grafo como el nombre de la ciudad siendo una llave del diccionario\n",
        "def agregarA(grafo, elemento):\n",
        "      grafo.relaciones.update({elemento:[]})\n",
        "def agregarP(grafo, elemento):\n",
        "      grafo.peso.update({elemento:[]})\n",
        "#se usa el nombre de la ciudad de origen como llave y se le añade a la lista que tiene el destino\n",
        "def relacionarUnilateral(grafo, origen, destino):\n",
        "      grafo.relaciones[origen].append(destino)\n",
        "#funcion para añadir arista como el nombre en una lista dentro del diccionario de la ciudad origen\n",
        "def relacionarA(grafo, elemento1, elemento2):\n",
        "    relacionarUnilateral(grafo, elemento1, elemento2)\n",
        "#se usa el nombre de la ciudad de origen como llave y se le añade a la lista que tiene el destino\n",
        "def relacionarUnilateralP(grafo, origen, destino):\n",
        "      grafo.peso[origen].append(destino)\n",
        "#funcion para añadir el peso de una arista en una lista dentro del diccionario de la ciudad origen\n",
        "def relacionarP(grafo, elemento1, elemento2):\n",
        "    relacionarUnilateralP(grafo, elemento1, elemento2)\n",
        "    "
      ],
      "metadata": {
        "id": "88BS1mZl3m_4"
      },
      "execution_count": 100,
      "outputs": []
    },
    {
      "cell_type": "code",
      "source": [
        "import keyword\n",
        "#Se llama a el archivo de excel donde estan los datos y se vuelve un dataframe\n",
        "df = pd.DataFrame(pd.read_excel(\"datalab.xlsx\"))\n",
        "print(df.columns)\n",
        "#se obtienen solo las columnas de origen y destino como dos listas independientes\n",
        "origenes= df[\"Ciudad Origen\"].tolist()\n",
        "destinos=df['Ciudad Destino'].tolist()\n",
        "#lo mismo pero con las columnas de coordenadas de origen y destino\n",
        "cO=df['Coordenadas.O'].tolist()\n",
        "cD=df['Coordenadas D'].tolist()\n",
        "#se quitan los repetidos en origenes para tener los nodos\n",
        "capitales=list(dict.fromkeys(origenes))\n",
        "#se crea el grafo\n",
        "Ciudades=ciudades()\n",
        "#se introduce cada nodo siendo el nombre de cada ciudad de origen\n",
        "for x in capitales:\n",
        "  agregarA(Ciudades, x)\n",
        "  agregarP(Ciudades, x)\n",
        "#se hace un ciclo para introducirle a cada nodo sus aristas\n",
        "for i in Ciudades.relaciones:\n",
        "  #ciclo para que vaya por cada uno de las ciudades destino para cada nodo\n",
        "  for j in range(len(destinos)):\n",
        "    #si la ciudad de origen actual es la misma que el nodo para el que se estan añadiendo las aristas \n",
        "    if i== origenes[j]:\n",
        "      #se buscan las coordenadas en el mismo index(fila del comumento de excel) y usando la funcion se saca la distancia\n",
        "      cord1=cO[j].split(', ')\n",
        "      cord2=cD[j].split(', ')\n",
        "      lat1 =float(cord1[0])\n",
        "      lon1 =float(cord1[1])\n",
        "      lat2 =float(cord2[0])\n",
        "      lon2 =float(cord2[1])\n",
        "      #funcion para sacar la distancia\n",
        "      distancia = haversine(lat1,lon1,lat2,lon2)\n",
        "      #que el se añada en su lista ese elemento en la lista de destinos con el mismo indice que con la verificacion de la lista origenes\n",
        "      relacionarA(Ciudades, i, destinos[j])\n",
        "      #se añade la distancia a el diccionario del nodo donde guarda los pesos de las aristas con mismo indice\n",
        "      relacionarP(Ciudades, i, distancia)\n",
        "\n",
        "#conseguir cada valor individual de la lista dentro del diccionario, osea arista individual con su peso\n",
        "\n",
        "\n",
        "#.relaciones es el diccionario con los nombres de las aristas, capitales son las llaves el ultimo [] es la posicion dentro de la lista de aristas\n",
        "print(Ciudades.relaciones[capitales[0]][0])\n",
        "#.peso es la distancia que tiene la arista, capitales son las llaves, el ultimo [] es la posicion exacta para el valor de la arista con mismo indice\n",
        "print(Ciudades.peso[capitales[0]][0])\n",
        "#sin el ultimo[] para sacar toda la lista de esa llave\n",
        "print(Ciudades.relaciones[capitales[0]])\n",
        "print(Ciudades.peso[capitales[0]])\n",
        "\n",
        "\n",
        "\n"
      ],
      "metadata": {
        "colab": {
          "base_uri": "https://localhost:8080/"
        },
        "id": "jP0y_pOgm5rV",
        "outputId": "189ae496-9795-49a6-d47e-ebbe4c324ba4"
      },
      "execution_count": 104,
      "outputs": [
        {
          "output_type": "stream",
          "name": "stdout",
          "text": [
            "Index(['Ciudad Origen', 'Pais Origen', 'Ciudad Destino', 'Coordenadas.O',\n",
            "       'Coordenadas D'],\n",
            "      dtype='object')\n",
            "VILLAVICENCIO\n",
            "449.3819310376817\n",
            "['VILLAVICENCIO', 'BOGOTA', 'PEREIRA', 'BUCARAMANGA', 'CUCUTA']\n",
            "[449.3819310376817, 438.93102805098, 601.3344679956641, 265.52312957840564, 221.69686520921417]\n"
          ]
        }
      ]
    }
  ]
}