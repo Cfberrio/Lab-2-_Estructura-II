{
  "nbformat": 4,
  "nbformat_minor": 0,
  "metadata": {
    "colab": {
      "provenance": [],
      "collapsed_sections": [],
      "mount_file_id": "1vymbgx-kVR8G_8pTWfwsh0pdwXGIihOQ",
      "authorship_tag": "ABX9TyNMOvSyOO9cpsINnPG05lBC",
      "include_colab_link": true
    },
    "kernelspec": {
      "name": "python3",
      "display_name": "Python 3"
    },
    "language_info": {
      "name": "python"
    }
  },
  "cells": [
    {
      "cell_type": "markdown",
      "metadata": {
        "id": "view-in-github",
        "colab_type": "text"
      },
      "source": [
        "<a href=\"https://colab.research.google.com/github/Cfberrio/Lab-2-_Estructura-II/blob/main/lab2.ipynb\" target=\"_parent\"><img src=\"https://colab.research.google.com/assets/colab-badge.svg\" alt=\"Open In Colab\"/></a>"
      ]
    },
    {
      "cell_type": "code",
      "execution_count": 28,
      "metadata": {
        "id": "BbMYQ014gqpf"
      },
      "outputs": [],
      "source": [
        "import pandas as pd\n",
        "import networkx as nx\n",
        "import math\n",
        "import sys\n",
        "import heapq\n",
        "def haversine(lat1, lon1, lat2, lon2):\n",
        "    rad=math.pi/180\n",
        "    dlat=lat2-lat1\n",
        "    dlon=lon2-lon1\n",
        "    R=6372.795477598\n",
        "    a=(math.sin(rad*dlat/2))**2 + math.cos(rad*lat1)*math.cos(rad*lat2)*(math.sin(rad*dlon/2))**2\n",
        "    distancia=2*R*math.asin(math.sqrt(a))\n",
        "    return distancia"
      ]
    },
    {
      "cell_type": "code",
      "source": [],
      "metadata": {
        "id": "TvRnxW8QW-qZ"
      },
      "execution_count": 9,
      "outputs": []
    },
    {
      "cell_type": "code",
      "source": [
        "#clase del grafo\n",
        "class ciudades(object):\n",
        "    #constructor con diccionario nombre_ciudad: lista de ciudades a las que puede llegar\n",
        "    #la parte de las lista despues la voy a cambiar por otro diccionario que sea nombre_destino:distancia\n",
        "    def __init__(self):\n",
        "        self.relaciones = {}\n",
        "        self.peso ={}\n",
        "        self.via ={}\n",
        "#se agrega un nodo al grafo como el nombre de la ciudad siendo una llave del diccionario\n",
        "def agregarA(grafo, elemento):\n",
        "      grafo.relaciones.update({elemento:[]})\n",
        "def agregarP(grafo, elemento):\n",
        "      grafo.peso.update({elemento:[]})\n",
        "def agregarV(grafo, elemento):\n",
        "      grafo.via.update({elemento:{}})\n",
        "#se usa el nombre de la ciudad de origen como llave y se le añade a la lista que tiene el destino\n",
        "def relacionarUnilateral(grafo, origen, destino):\n",
        "      grafo.relaciones[origen].append(destino)\n",
        "#funcion para añadir arista como el nombre en una lista dentro del diccionario de la ciudad origen\n",
        "def relacionarA(grafo, elemento1, elemento2):\n",
        "    relacionarUnilateral(grafo, elemento1, elemento2)\n",
        "#se usa el nombre de la ciudad de origen como llave y se le añade a la lista que tiene el destino\n",
        "def relacionarUnilateralP(grafo, origen, destino):\n",
        "      grafo.peso[origen].append(destino)\n",
        "#funcion para añadir el peso de una arista en una lista dentro del diccionario de la ciudad origen\n",
        "def relacionarP(grafo, elemento1, elemento2):\n",
        "    relacionarUnilateralP(grafo, elemento1, elemento2)\n",
        "#funcion para añadir el peso de una arista en una lista dentro del diccionario de la ciudad origen\n",
        "def relacionarUnilateralV(grafo, origen, dicc):\n",
        "      grafo.via[origen].update(dicc)\n",
        "def relacionarV (grafo, elemento1, elemento2):\n",
        "    relacionarUnilateralV(grafo, elemento1, elemento2)\n",
        "def calculate_distances(graph, starting_vertex):\n",
        "    distances = {vertex: float('infinity') for vertex in graph}\n",
        "    distances[starting_vertex] = 0\n",
        "\n",
        "    pq = [(0, starting_vertex)]\n",
        "    while len(pq) > 0:\n",
        "        current_distance, current_vertex = heapq.heappop(pq)\n",
        "\n",
        "        # Nodes can get added to the priority queue multiple times. We only\n",
        "        # process a vertex the first time we remove it from the priority queue.\n",
        "        if current_distance > distances[current_vertex]:\n",
        "            continue\n",
        "\n",
        "        for neighbor, weight in graph[current_vertex].items():\n",
        "            distance = current_distance + weight\n",
        "\n",
        "            # Only consider this new path if it's better than any path we've\n",
        "            # already found.\n",
        "            if distance < distances[neighbor]:\n",
        "                distances[neighbor] = distance\n",
        "                heapq.heappush(pq, (distance, neighbor))\n",
        "\n",
        "    return distances\n",
        "    "
      ],
      "metadata": {
        "id": "88BS1mZl3m_4"
      },
      "execution_count": 27,
      "outputs": []
    },
    {
      "cell_type": "code",
      "source": [
        "import keyword\n",
        "#Se llama a el archivo de excel donde estan los datos y se vuelve un dataframe\n",
        "df = pd.DataFrame(pd.read_excel(\"datalab.xlsx\"))\n",
        "print(df.columns)\n",
        "#se obtienen solo las columnas de origen y destino como dos listas independientes\n",
        "origenes= df[\"Ciudad Origen\"].tolist()\n",
        "destinos=df['Ciudad Destino'].tolist()\n",
        "#lo mismo pero con las columnas de coordenadas de origen y destino\n",
        "cO=df['Coordenadas.O'].tolist()\n",
        "cD=df['Coordenadas D'].tolist()\n",
        "#se quitan los repetidos en origenes para tener los nodos\n",
        "capitales=list(dict.fromkeys(origenes))\n",
        "print(capitales)\n",
        "#se crea el grafo\n",
        "Ciudades=ciudades()\n",
        "print(type(Ciudades.via))\n",
        "#se introduce cada nodo siendo el nombre de cada ciudad de origen\n",
        "for x in capitales:\n",
        "  agregarA(Ciudades, x)\n",
        "  agregarP(Ciudades, x)\n",
        "  agregarV(Ciudades, x)\n",
        "#se hace un ciclo para introducirle a cada nodo sus aristas\n",
        "for i in Ciudades.relaciones:\n",
        "  #ciclo para que vaya por cada uno de las ciudades destino para cada nodo\n",
        "  for j in range(len(destinos)):\n",
        "    #si la ciudad de origen actual es la misma que el nodo para el que se estan añadiendo las aristas \n",
        "    if i== origenes[j]:\n",
        "      #se buscan las coordenadas en el mismo index(fila del comumento de excel) y usando la funcion se saca la distancia\n",
        "      cord1=cO[j].split(', ')\n",
        "      cord2=cD[j].split(', ')\n",
        "      lat1 =float(cord1[0])\n",
        "      lon1 =float(cord1[1])\n",
        "      lat2 =float(cord2[0])\n",
        "      lon2 =float(cord2[1])\n",
        "      #funcion para sacar la distancia\n",
        "      distancia = haversine(lat1,lon1,lat2,lon2)\n",
        "      via={destinos[j]:distancia}\n",
        "      #que el se añada en su lista ese elemento en la lista de destinos con el mismo indice que con la verificacion de la lista origenes\n",
        "      relacionarA(Ciudades, i, destinos[j])\n",
        "      #se añade la distancia a el diccionario del nodo donde guarda los pesos de las aristas con mismo indice\n",
        "      relacionarP(Ciudades, i, distancia)\n",
        "      relacionarV(Ciudades, i, via)\n",
        "\n",
        "#conseguir cada valor individual de la lista dentro del diccionario, osea arista individual con su peso\n",
        "\n",
        "\n",
        "#.relaciones es el diccionario con los nombres de las aristas, capitales son las llaves el ultimo [] es la posicion dentro de la lista de aristas\n",
        "#print(Ciudades.peso)\n",
        "#print (Ciudades.relaciones)\n",
        "#print(Ciudades.via)\n",
        "#.peso es la distancia que tiene la arista, capitales son las llaves, el ultimo [] es la posicion exacta para el valor de la arista con mismo indice\n",
        "#print(Ciudades.peso[\"ARMENIA\"])\n",
        "#sin el ultimo[] para sacar toda la lista de esa llave\n",
        "#print(Ciudades.relaciones[capitales[1]])\n",
        "#print(Ciudades.peso[capitales[1]])\n",
        "#ARMENIA EN ESTE CASO SERIA REEMPLAZADO POR CIUDAD DE INICIO QUE ESCOJA EL USUARIO\n",
        "#a=calculate_distances(Ciudades.via, \"ARMENIA\")\n",
        "#ESTA SERIA LA RESPUESTA Y BARRANQUILLA SERIA CAMBIADO POR CIUDAD DESTINO QUE ESCOJA EL USUARIO\n",
        "#print(a[\"BARRANQUILLA\"])\n",
        "\n",
        "\n",
        "\n"
      ],
      "metadata": {
        "colab": {
          "base_uri": "https://localhost:8080/"
        },
        "id": "jP0y_pOgm5rV",
        "outputId": "3c0bf0e4-a6c6-4c5a-ac71-bddaac317874"
      },
      "execution_count": 29,
      "outputs": [
        {
          "output_type": "stream",
          "name": "stdout",
          "text": [
            "Index(['Ciudad Origen', 'Pais Origen', 'Ciudad Destino', 'Coordenadas.O',\n",
            "       'Coordenadas D'],\n",
            "      dtype='object')\n",
            "['ARAUCA - MUNICIPIO', 'ARMENIA', 'BARRANQUILLA', 'BOGOTA', 'BUCARAMANGA', 'CALI', 'CARTAGENA', 'CUCUTA', 'FLORENCIA', 'IBAGUE', 'LETICIA', 'MANIZALES', 'MEDELLIN', 'MITU', 'MONTERIA', 'NEIVA', 'PASTO', 'PEREIRA', 'POPAYAN', 'PUERTO CARRENO', 'QUIBDO', 'RIOHACHA', 'SAN ANDRES - ISLA', 'SAN JOSE DEL GUAVIARE', 'SANTA MARTA', 'VALLEDUPAR', 'VILLAVICENCIO', 'YOPAL']\n",
            "<class 'dict'>\n"
          ]
        }
      ]
    },
    {
      "cell_type": "code",
      "source": [
        "from networkx.algorithms.centrality.percolation import dijkstra\n",
        "import keyword\n",
        "#Se llama a el archivo de excel donde estan los datos y se vuelve un dataframe\n",
        "df = pd.DataFrame(pd.read_excel(\"datalab.xlsx\"))\n",
        "print(df.columns)\n",
        "#se obtienen solo las columnas de origen y destino como dos listas independientes\n",
        "origenes= df[\"Ciudad Origen\"].tolist()\n",
        "destinos=df['Ciudad Destino'].tolist()\n",
        "#lo mismo pero con las columnas de coordenadas de origen y destino\n",
        "cO=df['Coordenadas.O'].tolist()\n",
        "cD=df['Coordenadas D'].tolist()\n",
        "#se quitan los repetidos en origenes para tener los nodos\n",
        "capitales=list(dict.fromkeys(origenes))\n",
        "#se crea el grafo\n",
        "ciudades = nx.Graph()\n",
        "#se introduce cada nodo siendo el nombre de cada ciudad de origen\n",
        "for x in capitales:\n",
        "  ciudades.add_node(x)\n",
        "#se hace un ciclo para introducirle a cada nodo sus aristas\n",
        "for i in ciudades.nodes:\n",
        "  #ciclo para que vaya por cada uno de las ciudades destino para cada nodo\n",
        "  for j in range(len(destinos)):\n",
        "    #si la ciudad de origen actual es la misma que el nodo para el que se estan añadiendo las aristas\n",
        "    if i== origenes[j]:\n",
        "      #se buscan las coordenadas en el mismo index(fila del comumento de excel) y usando la funcion se saca la distancia\n",
        "      cord1=cO[j].split(', ')\n",
        "      cord2=cD[j].split(', ')\n",
        "      lat1 =float(cord1[0])\n",
        "      lon1 =float(cord1[1])\n",
        "      lat2 =float(cord2[0])\n",
        "      lon2 =float(cord2[1])\n",
        "      #funcion para sacar la distancia\n",
        "      distancia = haversine(lat1,lon1,lat2,lon2)\n",
        "      via={destinos[j]:distancia}\n",
        "      #que el se añada en su lista ese elemento en la lista de destinos con el mismo indice que con la verificacion de la lista origenes\n",
        "      ciudades.add_edge(i, destinos[j], weight=distancia)\n",
        "\n",
        "#print(ciudades.nodes)\n",
        "#print(ciudades.order())\n",
        "floyd = nx.floyd_warshall(ciudades, weight='weight')\n",
        "djkstra = nx.shortest_path(ciudades, source='BARRANQUILLA', weight='weight')\n",
        "#floyd2 = dict(nx.all_pairs_shortest_path(ciudades))\n",
        "#print(\"floyd: \",floyd)\n",
        "#print(\"\\n\")\n",
        "preorder = list(nx.dfs_preorder_nodes(ciudades))\n",
        "#print(\"preorder: \", preorder)\n",
        "#print(\"\\n\")\n",
        "postorder = list(nx.dfs_postorder_nodes(ciudades))\n",
        "#print(\"postorder: \", postorder)\n",
        "#print(\"\\n\")\n",
        "\n",
        "bfs = list(nx.bfs_edges(ciudades, source='ARMENIA'))\n",
        "#print(\"BFS: \", bfs)"
      ],
      "metadata": {
        "colab": {
          "base_uri": "https://localhost:8080/"
        },
        "id": "cn_ZsCtiHgSc",
        "outputId": "da8c95f5-8fe2-4658-c24a-83e3d5b70a00"
      },
      "execution_count": 30,
      "outputs": [
        {
          "output_type": "stream",
          "name": "stdout",
          "text": [
            "Index(['Ciudad Origen', 'Pais Origen', 'Ciudad Destino', 'Coordenadas.O',\n",
            "       'Coordenadas D'],\n",
            "      dtype='object')\n"
          ]
        }
      ]
    },
    {
      "cell_type": "code",
      "source": [
        "Ciudad_origen = \"BARRANQUILLA\" #@param [\"ARAUCA - MUNICIPIO\", \"ARMENIA\", \"BARRANQUILLA\", \"BOGOTA\", \"BUCARAMANGA\", \"CALI\", \"CARTAGENA\", \"CUCUTA\", \"FLORENCIA\", \"IBAGUE\", \"LETICIA\", \"MANIZALES\", \"MEDELLIN\", \"MITU\", \"MONTERIA\", \"NEIVA\", \"PASTO\", \"PEREIRA\", \"POPAYAN\", \"PUERTO CARRENO\", \"QUIBDO\", \"RIOHACHA\", \"SAN ANDRES - ISLA\", \"SAN JOSE DEL GUAVIARE\", \"SANTA MARTA\", \"VALLEDUPAR\", \"VILLAVICENCIO\", \"YOPAL\"]\n",
        "Ciudade_destino = \"MEDELLIN\" #@param [\"ARAUCA - MUNICIPIO\", \"ARMENIA\", \"BARRANQUILLA\", \"BOGOTA\", \"BUCARAMANGA\", \"CALI\", \"CARTAGENA\", \"CUCUTA\", \"FLORENCIA\", \"IBAGUE\", \"LETICIA\", \"MANIZALES\", \"MEDELLIN\", \"MITU\", \"MONTERIA\", \"NEIVA\", \"PASTO\", \"PEREIRA\", \"POPAYAN\", \"PUERTO CARRENO\", \"QUIBDO\", \"RIOHACHA\", \"SAN ANDRES - ISLA\", \"SAN JOSE DEL GUAVIARE\", \"SANTA MARTA\", \"VALLEDUPAR\", \"VILLAVICENCIO\",\"YOPAL\"]\n",
        "floyd_marshall = False #@param {type:\"boolean\"}"
      ],
      "metadata": {
        "id": "w8zn8IdBgvsB"
      },
      "execution_count": 37,
      "outputs": []
    },
    {
      "cell_type": "code",
      "source": [
        "if floyd_marshall:\n",
        "  print(\"floyd: \",floyd)\n",
        "else:\n",
        "    a=calculate_distances(Ciudades.via, Ciudad_origen)\n",
        "    print(\"La distancia mas corta a recorrer tomando los vuelos disponibles de la ciudad de inicio a la de fin es:\",a[Ciudade_destino])\n"
      ],
      "metadata": {
        "colab": {
          "base_uri": "https://localhost:8080/"
        },
        "id": "nwU9LutykNUi",
        "outputId": "4593a09c-3ce2-4dcd-d084-563787f0583c"
      },
      "execution_count": 38,
      "outputs": [
        {
          "output_type": "stream",
          "name": "stdout",
          "text": [
            "La distancia mas corta a recorrer tomando los vuelos disponibles de la ciudad de inicio a la de fin es: 543.6689433583001\n"
          ]
        }
      ]
    },
    {
      "cell_type": "code",
      "source": [
        "import folium\n",
        "import pandas as pd\n",
        "import numpy as np\n",
        "lat1 = []\n",
        "lon1 = []\n",
        "Marker = []\n",
        "\n",
        "origenes2 = list(set(cO))\n",
        "for j in range(len(capitales)):\n",
        "    cord1 = origenes2[j].split(', ')\n",
        "    lat1 = (float(cord1[0]))\n",
        "    lon1 = (float(cord1[1]))\n",
        "    Marker.append([capitales[j], lat1, lon1])\n",
        "\n",
        "mapObj = folium.Map(location=[10.963889, -74.796387], zoom_start=5.2)\n",
        "mapObj.get_root().html.add_child(folium.Element(\"\"\"\n",
        "<!DOCTYPE html>\n",
        "<html>\n",
        "<head>\n",
        "    <h1 id=\"tittle\">RUTA DE VUELOS NACIONALES</h1>\n",
        "</head>\n",
        "<body>\n",
        "    <div> \n",
        "    </div>\n",
        "</body>\n",
        "<style>html, body {position: absolute;top:80px;left: 150px;width: 50%;height: 75%;margin: 0;padding: 0;}</style>\n",
        "    <style>#map {position:relative;top:0;bottom:0;right:0px;left:0}</style>\n",
        "            <style>\n",
        "                #map_5e554ca4bef32fb1a06204d74aa08df5 {\n",
        "                    position: right;\n",
        "                    width: 100.0%;\n",
        "                    height: 100.0%;\n",
        "                    left: 0.0%;\n",
        "                    top: 30.0%\n",
        "                }\n",
        "            </style>\n",
        "    \n",
        "    <style>\n",
        "        h1 {\n",
        "            position : relative;\n",
        "            bottom: 60px;\n",
        "            text-align: center;\n",
        "            font-size: 50px;\n",
        "            background-color: #0abab5;\n",
        "            font-family: 'Merriweather', serif;\n",
        "            }\n",
        "        div{\n",
        "            position: relative;\n",
        "            left: 400px;\n",
        "        }\n",
        "        button{\n",
        "            position : relative;\n",
        "        }\n",
        "    </style>\n",
        "\"\"\"\n",
        "                                                ))\n",
        "for row in Marker:\n",
        "    folium.Marker([row[1], row[2]]).add_to(mapObj)\n",
        "mapObj.save(\"index.html\")\n",
        "\n",
        "\n",
        "lista_cords_o = df[\"Coordenadas.O\"].values.tolist()\n",
        "lista_cords_d = df[\"Coordenadas D\"].values.tolist()\n",
        "cord1 = []\n",
        "points = []\n",
        "lista_cords_d.pop()\n",
        "lista_cords_d.pop()\n",
        "for i in range(len(lista_cords_d)):\n",
        "    cord1 = lista_cords_d[i].split(', ')\n",
        "    lat1 = float(cord1[0])\n",
        "    lon1 = float(cord1[1])\n",
        "    points.append([lat1, lon1])\n",
        "    #folium.PolyLine(points, color =\"red\").add_to(m)\n",
        "# m.save(\"try.html\")"
      ],
      "metadata": {
        "id": "zxVRj9kFGQmD"
      },
      "execution_count": 41,
      "outputs": []
    }
  ]
}